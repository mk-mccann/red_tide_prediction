{
 "cells": [
  {
   "cell_type": "markdown",
   "id": "41eea91e-8741-4153-88ad-3e5236c4d3fd",
   "metadata": {},
   "source": [
    "# Red Tide Detection in South Florida\n",
    "\n",
    "Detecting Red Tide events in southwest Florida based on known events from 25 October 2024.\n",
    "\n",
    "\n",
    "## What is red tide?\n",
    "Red tide is a type harmful algal bloom (HAB). In southern FLorida, these HAMs are typically observed by *K. brevis*, an algae which is known to produce potent neurotoxins that affect both marine life and humans. "
   ]
  },
  {
   "cell_type": "code",
   "execution_count": 1,
   "id": "3ab3c750-2a0f-49e0-ad61-d098e4199c90",
   "metadata": {},
   "outputs": [],
   "source": [
    "import ee\n",
    "import geemap\n",
    "import numpy as np\n",
    "import pandas as pd\n",
    "import matplotlib.pyplot as plt"
   ]
  },
  {
   "cell_type": "code",
   "execution_count": 2,
   "id": "4e162a05-c9c8-4849-800d-09f638e9a87e",
   "metadata": {},
   "outputs": [
    {
     "data": {
      "text/html": [
       "\n",
       "            <style>\n",
       "                .geemap-dark {\n",
       "                    --jp-widgets-color: white;\n",
       "                    --jp-widgets-label-color: white;\n",
       "                    --jp-ui-font-color1: white;\n",
       "                    --jp-layout-color2: #454545;\n",
       "                    background-color: #383838;\n",
       "                }\n",
       "\n",
       "                .geemap-dark .jupyter-button {\n",
       "                    --jp-layout-color3: #383838;\n",
       "                }\n",
       "\n",
       "                .geemap-colab {\n",
       "                    background-color: var(--colab-primary-surface-color, white);\n",
       "                }\n",
       "\n",
       "                .geemap-colab .jupyter-button {\n",
       "                    --jp-layout-color3: var(--colab-primary-surface-color, white);\n",
       "                }\n",
       "            </style>\n",
       "            "
      ],
      "text/plain": [
       "<IPython.core.display.HTML object>"
      ]
     },
     "metadata": {},
     "output_type": "display_data"
    },
    {
     "name": "stderr",
     "output_type": "stream",
     "text": [
      "*** Earth Engine *** Share your feedback by taking our Annual Developer Satisfaction Survey: https://google.qualtrics.com/jfe/form/SV_0JLhFqfSY1uiEaW?source=Init\n"
     ]
    }
   ],
   "source": [
    "# ee.Authenticate()\n",
    "ee.Initialize()"
   ]
  },
  {
   "cell_type": "code",
   "execution_count": 3,
   "id": "2da3b45d-d0c3-4794-9889-5c6caebd8731",
   "metadata": {},
   "outputs": [
    {
     "data": {
      "text/html": [
       "\n",
       "            <style>\n",
       "                .geemap-dark {\n",
       "                    --jp-widgets-color: white;\n",
       "                    --jp-widgets-label-color: white;\n",
       "                    --jp-ui-font-color1: white;\n",
       "                    --jp-layout-color2: #454545;\n",
       "                    background-color: #383838;\n",
       "                }\n",
       "\n",
       "                .geemap-dark .jupyter-button {\n",
       "                    --jp-layout-color3: #383838;\n",
       "                }\n",
       "\n",
       "                .geemap-colab {\n",
       "                    background-color: var(--colab-primary-surface-color, white);\n",
       "                }\n",
       "\n",
       "                .geemap-colab .jupyter-button {\n",
       "                    --jp-layout-color3: var(--colab-primary-surface-color, white);\n",
       "                }\n",
       "            </style>\n",
       "            "
      ],
      "text/plain": [
       "<IPython.core.display.HTML object>"
      ]
     },
     "metadata": {},
     "output_type": "display_data"
    }
   ],
   "source": [
    "# Applies scaling factors.\n",
    "def apply_scale_factors(image):\n",
    "    \"\"\"Apply scaling factors to Landsat9 surface relfectance data\"\"\"\n",
    "    optical_bands = image.select('SR_B.').multiply(0.0000275).add(-0.2)\n",
    "    thermal_bands = image.select('ST_B.*').multiply(0.00341802).add(149.0)\n",
    "    return image.addBands(optical_bands, None, True).addBands(thermal_bands, None, True)\n",
    "\n",
    "def cloudMask(image):\n",
    "    clouds = ee.Algorithms.Landsat.simpleCloudScore(image).select(['cloud'])\n",
    "    return image.updateMask(clouds.lt(10))\n",
    "\n",
    "def addNDVI(image):\n",
    "    return image.addBands(image.normalizedDifference(['B5', 'B4']))"
   ]
  },
  {
   "cell_type": "code",
   "execution_count": 4,
   "id": "d4d0d44d-ed31-4107-aeef-761fe30b5ef0",
   "metadata": {},
   "outputs": [
    {
     "data": {
      "text/html": [
       "\n",
       "            <style>\n",
       "                .geemap-dark {\n",
       "                    --jp-widgets-color: white;\n",
       "                    --jp-widgets-label-color: white;\n",
       "                    --jp-ui-font-color1: white;\n",
       "                    --jp-layout-color2: #454545;\n",
       "                    background-color: #383838;\n",
       "                }\n",
       "\n",
       "                .geemap-dark .jupyter-button {\n",
       "                    --jp-layout-color3: #383838;\n",
       "                }\n",
       "\n",
       "                .geemap-colab {\n",
       "                    background-color: var(--colab-primary-surface-color, white);\n",
       "                }\n",
       "\n",
       "                .geemap-colab .jupyter-button {\n",
       "                    --jp-layout-color3: var(--colab-primary-surface-color, white);\n",
       "                }\n",
       "            </style>\n",
       "            "
      ],
      "text/plain": [
       "<IPython.core.display.HTML object>"
      ]
     },
     "metadata": {},
     "output_type": "display_data"
    }
   ],
   "source": [
    "# Create a basemap\n",
    "Map = geemap.Map(center=[26.4, -81.99], zoom=7, basemap='TERRAIN')"
   ]
  },
  {
   "cell_type": "code",
   "execution_count": 5,
   "id": "ccf92bd2-2dfc-42aa-b68e-0a17cf91184b",
   "metadata": {},
   "outputs": [
    {
     "data": {
      "text/html": [
       "\n",
       "            <style>\n",
       "                .geemap-dark {\n",
       "                    --jp-widgets-color: white;\n",
       "                    --jp-widgets-label-color: white;\n",
       "                    --jp-ui-font-color1: white;\n",
       "                    --jp-layout-color2: #454545;\n",
       "                    background-color: #383838;\n",
       "                }\n",
       "\n",
       "                .geemap-dark .jupyter-button {\n",
       "                    --jp-layout-color3: #383838;\n",
       "                }\n",
       "\n",
       "                .geemap-colab {\n",
       "                    background-color: var(--colab-primary-surface-color, white);\n",
       "                }\n",
       "\n",
       "                .geemap-colab .jupyter-button {\n",
       "                    --jp-layout-color3: var(--colab-primary-surface-color, white);\n",
       "                }\n",
       "            </style>\n",
       "            "
      ],
      "text/plain": [
       "<IPython.core.display.HTML object>"
      ]
     },
     "metadata": {},
     "output_type": "display_data"
    }
   ],
   "source": [
    "# Get area of interest around South Florida\n",
    "roi = ee.Geometry.Rectangle([-83.4277, 29.5, -78.7351, 24.5])"
   ]
  },
  {
   "cell_type": "code",
   "execution_count": 17,
   "id": "65f3d4f5-6ed1-4b80-bffc-fab71ef39312",
   "metadata": {},
   "outputs": [
    {
     "data": {
      "text/html": [
       "\n",
       "            <style>\n",
       "                .geemap-dark {\n",
       "                    --jp-widgets-color: white;\n",
       "                    --jp-widgets-label-color: white;\n",
       "                    --jp-ui-font-color1: white;\n",
       "                    --jp-layout-color2: #454545;\n",
       "                    background-color: #383838;\n",
       "                }\n",
       "\n",
       "                .geemap-dark .jupyter-button {\n",
       "                    --jp-layout-color3: #383838;\n",
       "                }\n",
       "\n",
       "                .geemap-colab {\n",
       "                    background-color: var(--colab-primary-surface-color, white);\n",
       "                }\n",
       "\n",
       "                .geemap-colab .jupyter-button {\n",
       "                    --jp-layout-color3: var(--colab-primary-surface-color, white);\n",
       "                }\n",
       "            </style>\n",
       "            "
      ],
      "text/plain": [
       "<IPython.core.display.HTML object>"
      ]
     },
     "metadata": {},
     "output_type": "display_data"
    }
   ],
   "source": [
    "# Load a region in which to compute the mean and display it.\n",
    "counties = ee.FeatureCollection('TIGER/2016/Counties')\n",
    "manatee = ee.Feature(counties.filter(\n",
    "    ee.Filter.eq('NAME', 'Manatee')).first())\n",
    "Map.addLayer(ee.Image().paint(manatee, 0, 2), \n",
    "             {'palette': 'yellow'}, 'Manatee')"
   ]
  },
  {
   "cell_type": "markdown",
   "id": "01479865-88f1-43a5-9b4e-88c4322476df",
   "metadata": {},
   "source": [
    "## Load Datasets"
   ]
  },
  {
   "cell_type": "markdown",
   "id": "646b1e22-4647-4dc7-a220-fd51ec659598",
   "metadata": {},
   "source": [
    "### Surface reflectance"
   ]
  },
  {
   "cell_type": "code",
   "execution_count": 11,
   "id": "58a1546e-6999-4c7f-9454-b870fea5328f",
   "metadata": {},
   "outputs": [
    {
     "data": {
      "text/html": [
       "\n",
       "            <style>\n",
       "                .geemap-dark {\n",
       "                    --jp-widgets-color: white;\n",
       "                    --jp-widgets-label-color: white;\n",
       "                    --jp-ui-font-color1: white;\n",
       "                    --jp-layout-color2: #454545;\n",
       "                    background-color: #383838;\n",
       "                }\n",
       "\n",
       "                .geemap-dark .jupyter-button {\n",
       "                    --jp-layout-color3: #383838;\n",
       "                }\n",
       "\n",
       "                .geemap-colab {\n",
       "                    background-color: var(--colab-primary-surface-color, white);\n",
       "                }\n",
       "\n",
       "                .geemap-colab .jupyter-button {\n",
       "                    --jp-layout-color3: var(--colab-primary-surface-color, white);\n",
       "                }\n",
       "            </style>\n",
       "            "
      ],
      "text/plain": [
       "<IPython.core.display.HTML object>"
      ]
     },
     "metadata": {},
     "output_type": "display_data"
    },
    {
     "ename": "AttributeError",
     "evalue": "'ImageCollection' object has no attribute 'clip'",
     "output_type": "error",
     "traceback": [
      "\u001b[1;31m---------------------------------------------------------------------------\u001b[0m",
      "\u001b[1;31mAttributeError\u001b[0m                            Traceback (most recent call last)",
      "Cell \u001b[1;32mIn[11], line 13\u001b[0m\n\u001b[0;32m      6\u001b[0m landsat_surf_reflectance \u001b[38;5;241m=\u001b[39m landsat_surf_reflectance\u001b[38;5;241m.\u001b[39mmap(apply_scale_factors)\n\u001b[0;32m      8\u001b[0m vis_landsat_rgb \u001b[38;5;241m=\u001b[39m {\n\u001b[0;32m      9\u001b[0m     \u001b[38;5;124m'\u001b[39m\u001b[38;5;124mbands\u001b[39m\u001b[38;5;124m'\u001b[39m: [\u001b[38;5;124m'\u001b[39m\u001b[38;5;124mSR_B4\u001b[39m\u001b[38;5;124m'\u001b[39m, \u001b[38;5;124m'\u001b[39m\u001b[38;5;124mSR_B3\u001b[39m\u001b[38;5;124m'\u001b[39m, \u001b[38;5;124m'\u001b[39m\u001b[38;5;124mSR_B2\u001b[39m\u001b[38;5;124m'\u001b[39m],\n\u001b[0;32m     10\u001b[0m     \u001b[38;5;124m'\u001b[39m\u001b[38;5;124mmin\u001b[39m\u001b[38;5;124m'\u001b[39m: \u001b[38;5;241m0.0\u001b[39m,\n\u001b[0;32m     11\u001b[0m     \u001b[38;5;124m'\u001b[39m\u001b[38;5;124mmax\u001b[39m\u001b[38;5;124m'\u001b[39m: \u001b[38;5;241m0.3\u001b[39m,\n\u001b[0;32m     12\u001b[0m }\n\u001b[1;32m---> 13\u001b[0m Map\u001b[38;5;241m.\u001b[39madd_layer(\u001b[43mlandsat_surf_reflectance\u001b[49m\u001b[38;5;241;43m.\u001b[39;49m\u001b[43mclip\u001b[49m(roi), vis_landsat_rgb, \u001b[38;5;124m'\u001b[39m\u001b[38;5;124mTrue Color (Landsat9)\u001b[39m\u001b[38;5;124m'\u001b[39m)\n",
      "\u001b[1;31mAttributeError\u001b[0m: 'ImageCollection' object has no attribute 'clip'"
     ]
    }
   ],
   "source": [
    "# Access the Landsat 9 Level 2, Collection 2, Tier 1 dataset\n",
    "landsat_surf_reflectance = ee.ImageCollection(\"LANDSAT/LC09/C02/T1_L2\") \\\n",
    "    .filterDate('2024-10-15', '2024-10-26') \\\n",
    "    .filterBounds(roi)\n",
    "\n",
    "landsat_surf_reflectance = landsat_surf_reflectance.map(apply_scale_factors)\n",
    "\n",
    "vis_landsat_rgb = {\n",
    "    'bands': ['SR_B4', 'SR_B3', 'SR_B2'],\n",
    "    'min': 0.0,\n",
    "    'max': 0.3,\n",
    "}\n",
    "Map.add_layer(landsat_surf_reflectance.clip(roi), vis_landsat_rgb, 'True Color (Landsat9)')"
   ]
  },
  {
   "cell_type": "markdown",
   "id": "71e80d0b-74cf-4965-b7a0-f8c5b623cd68",
   "metadata": {},
   "source": [
    "### Sea surface temperature"
   ]
  },
  {
   "cell_type": "code",
   "execution_count": 8,
   "id": "896e0914-ae05-425f-86ce-5fc7fe1c600f",
   "metadata": {},
   "outputs": [
    {
     "data": {
      "text/html": [
       "\n",
       "            <style>\n",
       "                .geemap-dark {\n",
       "                    --jp-widgets-color: white;\n",
       "                    --jp-widgets-label-color: white;\n",
       "                    --jp-ui-font-color1: white;\n",
       "                    --jp-layout-color2: #454545;\n",
       "                    background-color: #383838;\n",
       "                }\n",
       "\n",
       "                .geemap-dark .jupyter-button {\n",
       "                    --jp-layout-color3: #383838;\n",
       "                }\n",
       "\n",
       "                .geemap-colab {\n",
       "                    background-color: var(--colab-primary-surface-color, white);\n",
       "                }\n",
       "\n",
       "                .geemap-colab .jupyter-button {\n",
       "                    --jp-layout-color3: var(--colab-primary-surface-color, white);\n",
       "                }\n",
       "            </style>\n",
       "            "
      ],
      "text/plain": [
       "<IPython.core.display.HTML object>"
      ]
     },
     "metadata": {},
     "output_type": "display_data"
    }
   ],
   "source": [
    "# Access the GCOM-C/SGLI L3 Sea Surface Temperature (V3) dataset\n",
    "sst_jaxa = ee.ImageCollection(\"JAXA/GCOM-C/L3/OCEAN/SST/V3\") \\\n",
    "    .filterDate('2024-10-15', '2024-10-26') \\\n",
    "    .filter(ee.Filter.eq('SATELLITE_DIRECTION', 'D')) \\\n",
    "    .filterBounds(roi) \\\n",
    "    .select('SST_AVE') \n",
    "\n",
    "# Visualization parameters\n",
    "vis_params_sst =  {\n",
    "    'min': 20,\n",
    "    'max': 35,  # Typical SST range in Celsius; adjust based on your region\n",
    "    'palette': ['3500a8','0800ba','003fd6',\n",
    "                '00aca9','77f800','ff8800',\n",
    "                'b30000','920000','880000']\n",
    "}\n",
    "\n",
    "# Convert to Celcius\n",
    "mean_sst = sst_jaxa.mean().multiply(0.0012).add(-10);\n",
    "\n",
    "Map.addLayer(mean_sst.clip(roi), vis_params_sst, 'Mean SST (GCOM-C)')"
   ]
  },
  {
   "cell_type": "markdown",
   "id": "60ae384f-a6cb-4e6c-b3b5-7ac5b66593ce",
   "metadata": {},
   "source": [
    "### Chlorophyll-a data\n",
    "\n",
    "Some datasets, like the GCOM-C/SGLI L3 Chlorophyll-a Concentration (V3), calculate the Chlorophyll-a concentration. Others, like the Sentinel-3 OLCI EFR, require calculation from the images"
   ]
  },
  {
   "cell_type": "code",
   "execution_count": 9,
   "id": "9bbbfc51-e388-4cc0-837c-7c7871724790",
   "metadata": {},
   "outputs": [
    {
     "data": {
      "text/html": [
       "\n",
       "            <style>\n",
       "                .geemap-dark {\n",
       "                    --jp-widgets-color: white;\n",
       "                    --jp-widgets-label-color: white;\n",
       "                    --jp-ui-font-color1: white;\n",
       "                    --jp-layout-color2: #454545;\n",
       "                    background-color: #383838;\n",
       "                }\n",
       "\n",
       "                .geemap-dark .jupyter-button {\n",
       "                    --jp-layout-color3: #383838;\n",
       "                }\n",
       "\n",
       "                .geemap-colab {\n",
       "                    background-color: var(--colab-primary-surface-color, white);\n",
       "                }\n",
       "\n",
       "                .geemap-colab .jupyter-button {\n",
       "                    --jp-layout-color3: var(--colab-primary-surface-color, white);\n",
       "                }\n",
       "            </style>\n",
       "            "
      ],
      "text/plain": [
       "<IPython.core.display.HTML object>"
      ]
     },
     "metadata": {},
     "output_type": "display_data"
    }
   ],
   "source": [
    "#  GCOM-C/SGLI L3 Chlorophyll-a Concentration (V3) dataset for chlor-a measurements \n",
    "jaxa_chlor_a = ee.ImageCollection(\"JAXA/GCOM-C/L3/OCEAN/CHLA/V3\") \\\n",
    "    .filterBounds(roi) \\\n",
    "    .filterDate('2024-10-15', '2024-10-26') \\\n",
    "    .filter(ee.Filter.eq('SATELLITE_DIRECTION', 'D'))\n",
    "\n",
    "# Get the mean SST image over the selected time range\n",
    "mean_chlor_a = jaxa_chlor_a.select('CHLA_AVE').mean().multiply(0.0016).log10();\n",
    "\n",
    "visParams_jaxa_chlor_a = {\n",
    "    'min': -2,\n",
    "    'max': 2,\n",
    "    'palette': ['3500a8','0800ba','003fd6',\n",
    "                '00aca9','77f800','ff8800',\n",
    "                'b30000','920000','880000']\n",
    "}\n",
    "\n",
    "Map.addLayer(mean_chlor_a.clip(roi), visParams_jaxa_chlor_a, '[Chlor. A] (JAXA)')"
   ]
  },
  {
   "cell_type": "code",
   "execution_count": 45,
   "id": "14241f56-7b3a-421a-82e5-c62f12ea360d",
   "metadata": {},
   "outputs": [
    {
     "data": {
      "text/html": [
       "\n",
       "            <style>\n",
       "                .geemap-dark {\n",
       "                    --jp-widgets-color: white;\n",
       "                    --jp-widgets-label-color: white;\n",
       "                    --jp-ui-font-color1: white;\n",
       "                    --jp-layout-color2: #454545;\n",
       "                    background-color: #383838;\n",
       "                }\n",
       "\n",
       "                .geemap-dark .jupyter-button {\n",
       "                    --jp-layout-color3: #383838;\n",
       "                }\n",
       "\n",
       "                .geemap-colab {\n",
       "                    background-color: var(--colab-primary-surface-color, white);\n",
       "                }\n",
       "\n",
       "                .geemap-colab .jupyter-button {\n",
       "                    --jp-layout-color3: var(--colab-primary-surface-color, white);\n",
       "                }\n",
       "            </style>\n",
       "            "
      ],
      "text/plain": [
       "<IPython.core.display.HTML object>"
      ]
     },
     "metadata": {},
     "output_type": "display_data"
    }
   ],
   "source": [
    "# Sentinel3 dataset to extract ocean color for chlor-a measurements\n",
    "SENTINEL3 = ee.ImageCollection(\"COPERNICUS/S3/OLCI\") \\\n",
    "    .filterDate('2024-10-15', '2024-10-26') \\\n",
    "    .filterBounds(roi) \n",
    "\n",
    "\n",
    "SENTINEL3_chlora = SENTINEL3.select(\"Oa05_radiance\").median().multiply(0.0100953)\n",
    "\n",
    "visParams_SENTINEL3_chlora = {\n",
    "      'min': 0,\n",
    "      'max': 4,\n",
    "      'gamma': 1.5,\n",
    "    }\n",
    "\n",
    "# SENTINEL3_rgb = SENTINEL3.select(['Oa08_radiance', 'Oa06_radiance', 'Oa04_radiance']) \\\n",
    "#           .median() \\\n",
    "#         .multiply(ee.Image([0.00876539, 0.0123538, 0.0115198])) # Convert to radiance units.\n",
    "\n",
    "\n",
    "# visParams_SENTINEL3_rgb = {\n",
    "#       'min': 0,\n",
    "#       'max': 4,\n",
    "#       'gamma': 2,\n",
    "#     }\n",
    "\n",
    "# Map.addLayer(SENTINEL3_rgb.clip(roi), visParams_SENTINEL3_rgb, 'SENTINEL3_rgb');"
   ]
  },
  {
   "cell_type": "code",
   "execution_count": 43,
   "id": "c7b3e94d-b46b-4aae-8706-016e5bf56a19",
   "metadata": {},
   "outputs": [
    {
     "data": {
      "text/html": [
       "\n",
       "            <style>\n",
       "                .geemap-dark {\n",
       "                    --jp-widgets-color: white;\n",
       "                    --jp-widgets-label-color: white;\n",
       "                    --jp-ui-font-color1: white;\n",
       "                    --jp-layout-color2: #454545;\n",
       "                    background-color: #383838;\n",
       "                }\n",
       "\n",
       "                .geemap-dark .jupyter-button {\n",
       "                    --jp-layout-color3: #383838;\n",
       "                }\n",
       "\n",
       "                .geemap-colab {\n",
       "                    background-color: var(--colab-primary-surface-color, white);\n",
       "                }\n",
       "\n",
       "                .geemap-colab .jupyter-button {\n",
       "                    --jp-layout-color3: var(--colab-primary-surface-color, white);\n",
       "                }\n",
       "            </style>\n",
       "            "
      ],
      "text/plain": [
       "<IPython.core.display.HTML object>"
      ]
     },
     "metadata": {},
     "output_type": "display_data"
    }
   ],
   "source": [
    "SENTINEL3_chlora = SENTINEL3.select(\"Oa05_radiance\").median().multiply(0.0100953)\n",
    "visParams_SENTINEL3_chlora = {\n",
    "      'min': 0,\n",
    "      'max': 4,\n",
    "      'gamma': 1.5,\n",
    "    }\n",
    "# Map.addLayer(SENTINEL3_chlora, visParams_SENTINEL3_chlora, 'SENTINEL3_chlora');"
   ]
  },
  {
   "cell_type": "code",
   "execution_count": 36,
   "id": "b9f18194-233f-4011-a4b8-40251b634b71",
   "metadata": {},
   "outputs": [
    {
     "data": {
      "text/html": [
       "\n",
       "            <style>\n",
       "                .geemap-dark {\n",
       "                    --jp-widgets-color: white;\n",
       "                    --jp-widgets-label-color: white;\n",
       "                    --jp-ui-font-color1: white;\n",
       "                    --jp-layout-color2: #454545;\n",
       "                    background-color: #383838;\n",
       "                }\n",
       "\n",
       "                .geemap-dark .jupyter-button {\n",
       "                    --jp-layout-color3: #383838;\n",
       "                }\n",
       "\n",
       "                .geemap-colab {\n",
       "                    background-color: var(--colab-primary-surface-color, white);\n",
       "                }\n",
       "\n",
       "                .geemap-colab .jupyter-button {\n",
       "                    --jp-layout-color3: var(--colab-primary-surface-color, white);\n",
       "                }\n",
       "            </style>\n",
       "            "
      ],
      "text/plain": [
       "<IPython.core.display.HTML object>"
      ]
     },
     "metadata": {},
     "output_type": "display_data"
    },
    {
     "data": {
      "text/plain": [
       "{'type': 'Image',\n",
       " 'bands': [{'id': 'Oa05_radiance',\n",
       "   'data_type': {'type': 'PixelType', 'precision': 'double'},\n",
       "   'crs': 'EPSG:4326',\n",
       "   'crs_transform': [1, 0, 0, 0, 1, 0]}]}"
      ]
     },
     "execution_count": 36,
     "metadata": {},
     "output_type": "execute_result"
    }
   ],
   "source": [
    "SENTINEL3_chlora.getInfo()"
   ]
  },
  {
   "cell_type": "code",
   "execution_count": 37,
   "id": "79098048-1dfa-49aa-aebf-1f6a0428b23b",
   "metadata": {},
   "outputs": [
    {
     "data": {
      "text/html": [
       "\n",
       "            <style>\n",
       "                .geemap-dark {\n",
       "                    --jp-widgets-color: white;\n",
       "                    --jp-widgets-label-color: white;\n",
       "                    --jp-ui-font-color1: white;\n",
       "                    --jp-layout-color2: #454545;\n",
       "                    background-color: #383838;\n",
       "                }\n",
       "\n",
       "                .geemap-dark .jupyter-button {\n",
       "                    --jp-layout-color3: #383838;\n",
       "                }\n",
       "\n",
       "                .geemap-colab {\n",
       "                    background-color: var(--colab-primary-surface-color, white);\n",
       "                }\n",
       "\n",
       "                .geemap-colab .jupyter-button {\n",
       "                    --jp-layout-color3: var(--colab-primary-surface-color, white);\n",
       "                }\n",
       "            </style>\n",
       "            "
      ],
      "text/plain": [
       "<IPython.core.display.HTML object>"
      ]
     },
     "metadata": {},
     "output_type": "display_data"
    }
   ],
   "source": [
    "# Base imagery dataset\n",
    "SENTINEL2 = ee.ImageCollection(\"COPERNICUS/S2_SR_HARMONIZED\") \\\n",
    "    .filterBounds(roi) \\\n",
    "    .filterDate('2024-10-15', '2024-10-26') \\\n",
    "    # .filter(ee.Filter.lt('CLOUDY_PIXEL_PERCENTAGE', 10)) \\\n",
    "    # .limit(10)\n",
    "\n",
    "meanSENTINEL2 = SENTINEL2.mean()\n",
    "vizParamsSENTINEL2 = {'bands': ['B4', 'B3', 'B2'], 'min': 0, 'max': 5000, 'gamma':2}\n",
    "Map.addLayer(meanSENTINEL2.clip(roi), vizParamsSENTINEL2, 'Mean SENTINEL2 Image')"
   ]
  },
  {
   "cell_type": "code",
   "execution_count": 40,
   "id": "611efdbf-6d68-43ad-9ecb-b647c8e5f4d9",
   "metadata": {},
   "outputs": [
    {
     "data": {
      "text/html": [
       "\n",
       "            <style>\n",
       "                .geemap-dark {\n",
       "                    --jp-widgets-color: white;\n",
       "                    --jp-widgets-label-color: white;\n",
       "                    --jp-ui-font-color1: white;\n",
       "                    --jp-layout-color2: #454545;\n",
       "                    background-color: #383838;\n",
       "                }\n",
       "\n",
       "                .geemap-dark .jupyter-button {\n",
       "                    --jp-layout-color3: #383838;\n",
       "                }\n",
       "\n",
       "                .geemap-colab {\n",
       "                    background-color: var(--colab-primary-surface-color, white);\n",
       "                }\n",
       "\n",
       "                .geemap-colab .jupyter-button {\n",
       "                    --jp-layout-color3: var(--colab-primary-surface-color, white);\n",
       "                }\n",
       "            </style>\n",
       "            "
      ],
      "text/plain": [
       "<IPython.core.display.HTML object>"
      ]
     },
     "metadata": {},
     "output_type": "display_data"
    }
   ],
   "source": [
    "# VIIRS = ee.ImageCollection(\"NASA/VIIRS/002/VNP09GA\") \\\n",
    "#              .filterDate('2024-10-17', '2024-10-31') \\\n",
    "#              # .filter(ee.Filter.eq('SATELLITE_DIRECTION', 'D'))"
   ]
  },
  {
   "cell_type": "code",
   "execution_count": 10,
   "id": "f02cb684-c8a3-47c2-9e51-69feddf8b4fe",
   "metadata": {},
   "outputs": [
    {
     "data": {
      "text/html": [
       "\n",
       "            <style>\n",
       "                .geemap-dark {\n",
       "                    --jp-widgets-color: white;\n",
       "                    --jp-widgets-label-color: white;\n",
       "                    --jp-ui-font-color1: white;\n",
       "                    --jp-layout-color2: #454545;\n",
       "                    background-color: #383838;\n",
       "                }\n",
       "\n",
       "                .geemap-dark .jupyter-button {\n",
       "                    --jp-layout-color3: #383838;\n",
       "                }\n",
       "\n",
       "                .geemap-colab {\n",
       "                    background-color: var(--colab-primary-surface-color, white);\n",
       "                }\n",
       "\n",
       "                .geemap-colab .jupyter-button {\n",
       "                    --jp-layout-color3: var(--colab-primary-surface-color, white);\n",
       "                }\n",
       "            </style>\n",
       "            "
      ],
      "text/plain": [
       "<IPython.core.display.HTML object>"
      ]
     },
     "metadata": {},
     "output_type": "display_data"
    },
    {
     "data": {
      "application/vnd.jupyter.widget-view+json": {
       "model_id": "44c441a323b34707a14f2144018665d8",
       "version_major": 2,
       "version_minor": 0
      },
      "text/plain": [
       "Map(center=[26.4, -81.99], controls=(WidgetControl(options=['position', 'transparent_bg'], widget=SearchDataGU…"
      ]
     },
     "execution_count": 10,
     "metadata": {},
     "output_type": "execute_result"
    }
   ],
   "source": [
    "Map"
   ]
  },
  {
   "cell_type": "code",
   "execution_count": 16,
   "id": "41a8758d-f5eb-4d63-9f98-5aa43bb6f1b0",
   "metadata": {},
   "outputs": [
    {
     "data": {
      "text/html": [
       "\n",
       "            <style>\n",
       "                .geemap-dark {\n",
       "                    --jp-widgets-color: white;\n",
       "                    --jp-widgets-label-color: white;\n",
       "                    --jp-ui-font-color1: white;\n",
       "                    --jp-layout-color2: #454545;\n",
       "                    background-color: #383838;\n",
       "                }\n",
       "\n",
       "                .geemap-dark .jupyter-button {\n",
       "                    --jp-layout-color3: #383838;\n",
       "                }\n",
       "\n",
       "                .geemap-colab {\n",
       "                    background-color: var(--colab-primary-surface-color, white);\n",
       "                }\n",
       "\n",
       "                .geemap-colab .jupyter-button {\n",
       "                    --jp-layout-color3: var(--colab-primary-surface-color, white);\n",
       "                }\n",
       "            </style>\n",
       "            "
      ],
      "text/plain": [
       "<IPython.core.display.HTML object>"
      ]
     },
     "metadata": {},
     "output_type": "display_data"
    },
    {
     "name": "stdout",
     "output_type": "stream",
     "text": [
      "Dates of the last n images: ['2024-10-25', '2024-10-25', '2024-10-25', '2024-10-25', '2024-10-25']\n"
     ]
    }
   ],
   "source": [
    "# Sort the collection by date in descending order and get the last n images\n",
    "n = 5  # Specify the number of most recent images you want\n",
    "last_n_images = SENTINEL2.sort('system:time_start', False).limit(n)\n",
    "\n",
    "# Print the dates of the last n images (optional)\n",
    "dates = last_n_images.aggregate_array('system:time_start') \\\n",
    "    .map(lambda date: ee.Date(date).format('YYYY-MM-dd')).getInfo()\n",
    "print(\"Dates of the last n images:\", dates)"
   ]
  },
  {
   "cell_type": "code",
   "execution_count": null,
   "id": "3783cfe7-afd9-4c21-9ef3-48b42a3213a9",
   "metadata": {},
   "outputs": [],
   "source": []
  }
 ],
 "metadata": {
  "kernelspec": {
   "display_name": "Python 3 (ipykernel)",
   "language": "python",
   "name": "python3"
  },
  "language_info": {
   "codemirror_mode": {
    "name": "ipython",
    "version": 3
   },
   "file_extension": ".py",
   "mimetype": "text/x-python",
   "name": "python",
   "nbconvert_exporter": "python",
   "pygments_lexer": "ipython3",
   "version": "3.13.0"
  }
 },
 "nbformat": 4,
 "nbformat_minor": 5
}
