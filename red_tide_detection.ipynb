{
 "cells": [
  {
   "cell_type": "markdown",
   "id": "41eea91e-8741-4153-88ad-3e5236c4d3fd",
   "metadata": {},
   "source": [
    "# Red Tide Detection in South Florida\n",
    "\n",
    "Detecting Red Tide events in southwest Florida based on known events from 25 October 2024"
   ]
  },
  {
   "cell_type": "code",
   "execution_count": 1,
   "id": "3ab3c750-2a0f-49e0-ad61-d098e4199c90",
   "metadata": {},
   "outputs": [],
   "source": [
    "import ee\n",
    "import geemap\n",
    "import numpy as np\n",
    "import pandas as pd\n",
    "import matplotlib.pyplot as plt"
   ]
  },
  {
   "cell_type": "code",
   "execution_count": 2,
   "id": "4e162a05-c9c8-4849-800d-09f638e9a87e",
   "metadata": {},
   "outputs": [
    {
     "data": {
      "text/html": [
       "\n",
       "            <style>\n",
       "                .geemap-dark {\n",
       "                    --jp-widgets-color: white;\n",
       "                    --jp-widgets-label-color: white;\n",
       "                    --jp-ui-font-color1: white;\n",
       "                    --jp-layout-color2: #454545;\n",
       "                    background-color: #383838;\n",
       "                }\n",
       "\n",
       "                .geemap-dark .jupyter-button {\n",
       "                    --jp-layout-color3: #383838;\n",
       "                }\n",
       "\n",
       "                .geemap-colab {\n",
       "                    background-color: var(--colab-primary-surface-color, white);\n",
       "                }\n",
       "\n",
       "                .geemap-colab .jupyter-button {\n",
       "                    --jp-layout-color3: var(--colab-primary-surface-color, white);\n",
       "                }\n",
       "            </style>\n",
       "            "
      ],
      "text/plain": [
       "<IPython.core.display.HTML object>"
      ]
     },
     "metadata": {},
     "output_type": "display_data"
    }
   ],
   "source": [
    "# ee.Authenticate()\n",
    "ee.Initialize()"
   ]
  },
  {
   "cell_type": "code",
   "execution_count": 62,
   "id": "c9cbf4f9-0f6b-4a21-a5c8-d637639556a5",
   "metadata": {},
   "outputs": [
    {
     "data": {
      "text/html": [
       "\n",
       "            <style>\n",
       "                .geemap-dark {\n",
       "                    --jp-widgets-color: white;\n",
       "                    --jp-widgets-label-color: white;\n",
       "                    --jp-ui-font-color1: white;\n",
       "                    --jp-layout-color2: #454545;\n",
       "                    background-color: #383838;\n",
       "                }\n",
       "\n",
       "                .geemap-dark .jupyter-button {\n",
       "                    --jp-layout-color3: #383838;\n",
       "                }\n",
       "\n",
       "                .geemap-colab {\n",
       "                    background-color: var(--colab-primary-surface-color, white);\n",
       "                }\n",
       "\n",
       "                .geemap-colab .jupyter-button {\n",
       "                    --jp-layout-color3: var(--colab-primary-surface-color, white);\n",
       "                }\n",
       "            </style>\n",
       "            "
      ],
      "text/plain": [
       "<IPython.core.display.HTML object>"
      ]
     },
     "metadata": {},
     "output_type": "display_data"
    }
   ],
   "source": [
    "# Applies scaling factors.\n",
    "def apply_scale_factors(image):\n",
    "  optical_bands = image.select('SR_B.').multiply(0.0000275).add(-0.2)\n",
    "  thermal_bands = image.select('ST_B.*').multiply(0.00341802).add(149.0)\n",
    "  return image.addBands(optical_bands, None, True).addBands(\n",
    "      thermal_bands, None, True\n",
    "  )\n",
    "\n",
    "def cloudMask(image):\n",
    "    clouds = ee.Algorithms.Landsat.simpleCloudScore(image).select(['cloud'])\n",
    "    return image.updateMask(clouds.lt(10))"
   ]
  },
  {
   "cell_type": "code",
   "execution_count": 82,
   "id": "14241f56-7b3a-421a-82e5-c62f12ea360d",
   "metadata": {},
   "outputs": [
    {
     "data": {
      "text/html": [
       "\n",
       "            <style>\n",
       "                .geemap-dark {\n",
       "                    --jp-widgets-color: white;\n",
       "                    --jp-widgets-label-color: white;\n",
       "                    --jp-ui-font-color1: white;\n",
       "                    --jp-layout-color2: #454545;\n",
       "                    background-color: #383838;\n",
       "                }\n",
       "\n",
       "                .geemap-dark .jupyter-button {\n",
       "                    --jp-layout-color3: #383838;\n",
       "                }\n",
       "\n",
       "                .geemap-colab {\n",
       "                    background-color: var(--colab-primary-surface-color, white);\n",
       "                }\n",
       "\n",
       "                .geemap-colab .jupyter-button {\n",
       "                    --jp-layout-color3: var(--colab-primary-surface-color, white);\n",
       "                }\n",
       "            </style>\n",
       "            "
      ],
      "text/plain": [
       "<IPython.core.display.HTML object>"
      ]
     },
     "metadata": {},
     "output_type": "display_data"
    }
   ],
   "source": [
    "# Load datasets\n",
    "LANDSAT = ee.ImageCollection('LANDSAT/LC08/C02/T1') \\\n",
    "              .map(cloudMask) \\\n",
    "             # .filterDate('2024-01-01', '2024-10-26') \\\n",
    "\n",
    "             # .filterBounds(ee.Geometry.Point(26.74, -82.3))\n",
    "\n",
    "SENTINEL = ee.ImageCollection(\"COPERNICUS/S3/OLCI\") \\\n",
    "             .filterDate('2024-10-17', '2024-10-31') \\\n",
    "             # .filter(ee.Filter.eq('SATELLITE_DIRECTION', 'D'))\n",
    "\n",
    "# aquaMODIS = ee.ImageCollection(\"NASA/OCEANDATA/MODIS-Aqua/L3SMI\") \\\n",
    "#              .filterDate('2024-10-20', '2024-10-31') \\\n",
    "#              .filter(ee.Filter.eq('SATELLITE_DIRECTION', 'D'))\n",
    "\n",
    "VIIRS = ee.ImageCollection(\"NASA/VIIRS/002/VNP09GA\") \\\n",
    "             .filterDate('2024-10-17', '2024-10-31') \\\n",
    "             # .filter(ee.Filter.eq('SATELLITE_DIRECTION', 'D'))\n",
    "\n",
    "GCOM_C = ee.ImageCollection(\"JAXA/GCOM-C/L3/OCEAN/CHLA/V3\") \\\n",
    "             .filterDate('2024-10-17', '2024-10-31') \\\n",
    "             # .filter(ee.Filter.eq('SATELLITE_DIRECTION', 'D'))"
   ]
  },
  {
   "cell_type": "code",
   "execution_count": 83,
   "id": "22ddcfe6-1bc4-404f-ab09-593bf8674708",
   "metadata": {},
   "outputs": [
    {
     "data": {
      "text/html": [
       "\n",
       "            <style>\n",
       "                .geemap-dark {\n",
       "                    --jp-widgets-color: white;\n",
       "                    --jp-widgets-label-color: white;\n",
       "                    --jp-ui-font-color1: white;\n",
       "                    --jp-layout-color2: #454545;\n",
       "                    background-color: #383838;\n",
       "                }\n",
       "\n",
       "                .geemap-dark .jupyter-button {\n",
       "                    --jp-layout-color3: #383838;\n",
       "                }\n",
       "\n",
       "                .geemap-colab {\n",
       "                    background-color: var(--colab-primary-surface-color, white);\n",
       "                }\n",
       "\n",
       "                .geemap-colab .jupyter-button {\n",
       "                    --jp-layout-color3: var(--colab-primary-surface-color, white);\n",
       "                }\n",
       "            </style>\n",
       "            "
      ],
      "text/plain": [
       "<IPython.core.display.HTML object>"
      ]
     },
     "metadata": {},
     "output_type": "display_data"
    }
   ],
   "source": [
    "# Create a basemap\n",
    "Map = geemap.Map(center=[27, -81], zoom=8.5)\n",
    "Map.setControlVisibility(layerControl=True, fullscreenControl=True, latLngPopup=True)"
   ]
  },
  {
   "cell_type": "code",
   "execution_count": 84,
   "id": "2e6186c6-90b5-4a68-b07f-5b75e2de6ba3",
   "metadata": {},
   "outputs": [
    {
     "data": {
      "text/html": [
       "\n",
       "            <style>\n",
       "                .geemap-dark {\n",
       "                    --jp-widgets-color: white;\n",
       "                    --jp-widgets-label-color: white;\n",
       "                    --jp-ui-font-color1: white;\n",
       "                    --jp-layout-color2: #454545;\n",
       "                    background-color: #383838;\n",
       "                }\n",
       "\n",
       "                .geemap-dark .jupyter-button {\n",
       "                    --jp-layout-color3: #383838;\n",
       "                }\n",
       "\n",
       "                .geemap-colab {\n",
       "                    background-color: var(--colab-primary-surface-color, white);\n",
       "                }\n",
       "\n",
       "                .geemap-colab .jupyter-button {\n",
       "                    --jp-layout-color3: var(--colab-primary-surface-color, white);\n",
       "                }\n",
       "            </style>\n",
       "            "
      ],
      "text/plain": [
       "<IPython.core.display.HTML object>"
      ]
     },
     "metadata": {},
     "output_type": "display_data"
    }
   ],
   "source": [
    "meanLANDSAT = LANDSAT.reduce(ee.Reducer.mean())\n",
    "vizParamsLANDSAT_mean = {'bands': ['B4_mean', 'B3_mean', 'B2_mean'], 'min': 5000, 'max': 25000, 'gamma': 1.3}\n",
    "vizParamsLANDSAT = {'bands': ['B4', 'B3', 'B2'], 'min': 0, 'max': 65000, 'gamma': 1.3}\n",
    "Map.addLayer(meanLANDSAT, vizParamsLANDSAT_mean, 'Landsat 8 Mean')"
   ]
  },
  {
   "cell_type": "code",
   "execution_count": 85,
   "id": "f02cb684-c8a3-47c2-9e51-69feddf8b4fe",
   "metadata": {},
   "outputs": [
    {
     "data": {
      "text/html": [
       "\n",
       "            <style>\n",
       "                .geemap-dark {\n",
       "                    --jp-widgets-color: white;\n",
       "                    --jp-widgets-label-color: white;\n",
       "                    --jp-ui-font-color1: white;\n",
       "                    --jp-layout-color2: #454545;\n",
       "                    background-color: #383838;\n",
       "                }\n",
       "\n",
       "                .geemap-dark .jupyter-button {\n",
       "                    --jp-layout-color3: #383838;\n",
       "                }\n",
       "\n",
       "                .geemap-colab {\n",
       "                    background-color: var(--colab-primary-surface-color, white);\n",
       "                }\n",
       "\n",
       "                .geemap-colab .jupyter-button {\n",
       "                    --jp-layout-color3: var(--colab-primary-surface-color, white);\n",
       "                }\n",
       "            </style>\n",
       "            "
      ],
      "text/plain": [
       "<IPython.core.display.HTML object>"
      ]
     },
     "metadata": {},
     "output_type": "display_data"
    },
    {
     "data": {
      "application/vnd.jupyter.widget-view+json": {
       "model_id": "d53b6126d7d14abeb148664aa1cff9f2",
       "version_major": 2,
       "version_minor": 0
      },
      "text/plain": [
       "Map(center=[27, -81], controls=(WidgetControl(options=['position', 'transparent_bg'], widget=SearchDataGUI(chi…"
      ]
     },
     "execution_count": 85,
     "metadata": {},
     "output_type": "execute_result"
    }
   ],
   "source": [
    "Map"
   ]
  },
  {
   "cell_type": "code",
   "execution_count": 75,
   "id": "10a10cb9-ec28-49bd-9187-148c64ef6866",
   "metadata": {},
   "outputs": [
    {
     "data": {
      "text/html": [
       "\n",
       "            <style>\n",
       "                .geemap-dark {\n",
       "                    --jp-widgets-color: white;\n",
       "                    --jp-widgets-label-color: white;\n",
       "                    --jp-ui-font-color1: white;\n",
       "                    --jp-layout-color2: #454545;\n",
       "                    background-color: #383838;\n",
       "                }\n",
       "\n",
       "                .geemap-dark .jupyter-button {\n",
       "                    --jp-layout-color3: #383838;\n",
       "                }\n",
       "\n",
       "                .geemap-colab {\n",
       "                    background-color: var(--colab-primary-surface-color, white);\n",
       "                }\n",
       "\n",
       "                .geemap-colab .jupyter-button {\n",
       "                    --jp-layout-color3: var(--colab-primary-surface-color, white);\n",
       "                }\n",
       "            </style>\n",
       "            "
      ],
      "text/plain": [
       "<IPython.core.display.HTML object>"
      ]
     },
     "metadata": {},
     "output_type": "display_data"
    },
    {
     "data": {
      "text/html": [
       "<pre>&lt;ee.imagecollection.ImageCollection object at 0x000002057437A600&gt;</pre>"
      ],
      "text/plain": [
       "<ee.imagecollection.ImageCollection at 0x2057437a600>"
      ]
     },
     "execution_count": 75,
     "metadata": {},
     "output_type": "execute_result"
    }
   ],
   "source": [
    "LANDSAT"
   ]
  },
  {
   "cell_type": "code",
   "execution_count": null,
   "id": "65f3d4f5-6ed1-4b80-bffc-fab71ef39312",
   "metadata": {},
   "outputs": [],
   "source": []
  }
 ],
 "metadata": {
  "kernelspec": {
   "display_name": "Python 3 (ipykernel)",
   "language": "python",
   "name": "python3"
  },
  "language_info": {
   "codemirror_mode": {
    "name": "ipython",
    "version": 3
   },
   "file_extension": ".py",
   "mimetype": "text/x-python",
   "name": "python",
   "nbconvert_exporter": "python",
   "pygments_lexer": "ipython3",
   "version": "3.12.7"
  }
 },
 "nbformat": 4,
 "nbformat_minor": 5
}
